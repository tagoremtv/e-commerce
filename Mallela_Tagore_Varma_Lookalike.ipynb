{
 "cells": [
  {
   "cell_type": "code",
   "execution_count": 1,
   "id": "c94f9e15",
   "metadata": {},
   "outputs": [],
   "source": [
    "import pandas as pd\n",
    "\n",
    "customers = pd.read_csv('Customers.csv')\n",
    "products= pd.read_csv('Products.csv')\n",
    "transactions  = pd.read_csv('Transactions.csv')"
   ]
  },
  {
   "cell_type": "code",
   "execution_count": 2,
   "id": "bc7ba5d9",
   "metadata": {},
   "outputs": [
    {
     "name": "stdout",
     "output_type": "stream",
     "text": [
      "  CustomerID        CustomerName         Region  SignupDate\n",
      "0      C0001    Lawrence Carroll  South America  2022-07-10\n",
      "1      C0002      Elizabeth Lutz           Asia  2022-02-13\n",
      "2      C0003      Michael Rivera  South America  2024-03-07\n",
      "3      C0004  Kathleen Rodriguez  South America  2022-10-09\n",
      "4      C0005         Laura Weber           Asia  2022-08-15\n"
     ]
    }
   ],
   "source": [
    "print(customers.head())"
   ]
  },
  {
   "cell_type": "code",
   "execution_count": 3,
   "id": "e74e91de",
   "metadata": {},
   "outputs": [
    {
     "name": "stdout",
     "output_type": "stream",
     "text": [
      "  TransactionID CustomerID ProductID      TransactionDate  Quantity  \\\n",
      "0        T00001      C0199      P067  2024-08-25 12:38:23         1   \n",
      "1        T00112      C0146      P067  2024-05-27 22:23:54         1   \n",
      "2        T00166      C0127      P067  2024-04-25 07:38:55         1   \n",
      "3        T00272      C0087      P067  2024-03-26 22:55:37         2   \n",
      "4        T00363      C0070      P067  2024-03-21 15:10:10         3   \n",
      "\n",
      "   TotalValue   Price  \n",
      "0      300.68  300.68  \n",
      "1      300.68  300.68  \n",
      "2      300.68  300.68  \n",
      "3      601.36  300.68  \n",
      "4      902.04  300.68  \n"
     ]
    }
   ],
   "source": [
    "print(transactions.head())"
   ]
  },
  {
   "cell_type": "code",
   "execution_count": 4,
   "id": "a26e29d7",
   "metadata": {},
   "outputs": [
    {
     "name": "stdout",
     "output_type": "stream",
     "text": [
      "  ProductID              ProductName     Category   Price\n",
      "0      P001     ActiveWear Biography        Books  169.30\n",
      "1      P002    ActiveWear Smartwatch  Electronics  346.30\n",
      "2      P003  ComfortLiving Biography        Books   44.12\n",
      "3      P004            BookWorld Rug   Home Decor   95.69\n",
      "4      P005          TechPro T-Shirt     Clothing  429.31\n"
     ]
    }
   ],
   "source": [
    "print(products.head())"
   ]
  },
  {
   "cell_type": "code",
   "execution_count": 5,
   "id": "a4f8decd",
   "metadata": {},
   "outputs": [
    {
     "data": {
      "text/plain": [
       "Index(['TransactionID', 'CustomerID', 'ProductID', 'TransactionDate',\n",
       "       'Quantity', 'TotalValue', 'Price'],\n",
       "      dtype='object')"
      ]
     },
     "execution_count": 5,
     "metadata": {},
     "output_type": "execute_result"
    }
   ],
   "source": [
    "transactions.columns"
   ]
  },
  {
   "cell_type": "code",
   "execution_count": 6,
   "id": "f86d6499",
   "metadata": {},
   "outputs": [],
   "source": [
    "customers['SignupDate'] = pd.to_datetime(customers['SignupDate'])\n",
    "transactions['TransactionDate'] = pd.to_datetime(transactions['TransactionDate'])\n",
    "\n",
    "customers['Tenure'] = (pd.Timestamp.now() - customers['SignupDate']).dt.days"
   ]
  },
  {
   "cell_type": "code",
   "execution_count": 7,
   "id": "12e9f380",
   "metadata": {},
   "outputs": [
    {
     "name": "stdout",
     "output_type": "stream",
     "text": [
      "  CustomerID        CustomerName         Region SignupDate  Tenure  \\\n",
      "0      C0001    Lawrence Carroll  South America 2022-07-10     932   \n",
      "1      C0002      Elizabeth Lutz           Asia 2022-02-13    1079   \n",
      "2      C0003      Michael Rivera  South America 2024-03-07     326   \n",
      "3      C0004  Kathleen Rodriguez  South America 2022-10-09     841   \n",
      "4      C0005         Laura Weber           Asia 2022-08-15     896   \n",
      "\n",
      "   TotalSpend  TransactionCount  UniqueProducts  \n",
      "0     3354.52                 5               5  \n",
      "1     1862.74                 4               4  \n",
      "2     2725.38                 4               4  \n",
      "3     5354.88                 8               8  \n",
      "4     2034.24                 3               3  \n"
     ]
    }
   ],
   "source": [
    "customer_summary = transactions.groupby('CustomerID').agg({\n",
    "    'TotalValue': 'sum',  \n",
    "    'TransactionID': 'count',  \n",
    "    'ProductID': 'nunique'  \n",
    "}).reset_index()\n",
    "\n",
    "customer_summary.columns = ['CustomerID', 'TotalSpend', 'TransactionCount', 'UniqueProducts']\n",
    "customer_summary = pd.merge(customers, customer_summary, on='CustomerID', how='inner')\n",
    "\n",
    "print(customer_summary.head())"
   ]
  },
  {
   "cell_type": "code",
   "execution_count": 8,
   "id": "6867dc2d",
   "metadata": {},
   "outputs": [
    {
     "name": "stdout",
     "output_type": "stream",
     "text": [
      "[('C0001', 'C0002', {'tenure_diff': 147, 'spend_diff': 1491.7800000000004, 'transaction_diff': 1, 'unique_products_diff': 1}), ('C0001', 'C0003', {'tenure_diff': 606, 'spend_diff': 629.1400000000003, 'transaction_diff': 1, 'unique_products_diff': 1}), ('C0001', 'C0004', {'tenure_diff': 91, 'spend_diff': 2000.3599999999997, 'transaction_diff': 3, 'unique_products_diff': 3}), ('C0001', 'C0005', {'tenure_diff': 36, 'spend_diff': 1320.2800000000004, 'transaction_diff': 2, 'unique_products_diff': 2}), ('C0001', 'C0006', {'tenure_diff': 546, 'spend_diff': 873.0499999999993, 'transaction_diff': 1, 'unique_products_diff': 1})]\n"
     ]
    }
   ],
   "source": [
    "from itertools import combinations\n",
    "\n",
    "def generate_customer_pairs(customer_summary):\n",
    "    customer_pairs = []\n",
    "    for (id1, id2) in combinations(customer_summary['CustomerID'], 2):\n",
    "        customer1 = customer_summary[customer_summary['CustomerID'] == id1].iloc[0]\n",
    "        customer2 = customer_summary[customer_summary['CustomerID'] == id2].iloc[0]\n",
    "        features = {\n",
    "            'tenure_diff': abs(customer1['Tenure'] - customer2['Tenure']),\n",
    "            'spend_diff': abs(customer1['TotalSpend'] - customer2['TotalSpend']),\n",
    "            'transaction_diff': abs(customer1['TransactionCount'] - customer2['TransactionCount']),\n",
    "            'unique_products_diff': abs(customer1['UniqueProducts'] - customer2['UniqueProducts']),\n",
    "        }\n",
    "        customer_pairs.append((id1, id2, features))\n",
    "    return customer_pairs\n",
    "\n",
    "pair_features = generate_customer_pairs(customer_summary)\n",
    "print(pair_features[:5])"
   ]
  },
  {
   "cell_type": "code",
   "execution_count": 9,
   "id": "6303d881",
   "metadata": {},
   "outputs": [
    {
     "name": "stdout",
     "output_type": "stream",
     "text": [
      "  Customer1 Customer2  tenure_diff  spend_diff  transaction_diff  \\\n",
      "0     C0001     C0002          147     1491.78                 1   \n",
      "1     C0001     C0003          606      629.14                 1   \n",
      "2     C0001     C0004           91     2000.36                 3   \n",
      "3     C0001     C0005           36     1320.28                 2   \n",
      "4     C0001     C0006          546      873.05                 1   \n",
      "\n",
      "   unique_products_diff  SimilarityScore  \n",
      "0                     1         0.000609  \n",
      "1                     1         0.000808  \n",
      "2                     3         0.000477  \n",
      "3                     2         0.000735  \n",
      "4                     1         0.000703  \n"
     ]
    }
   ],
   "source": [
    "def flatten_features(pair_features):\n",
    "    data = []\n",
    "    for id1, id2, features in pair_features:\n",
    "        row = {'Customer1': id1, 'Customer2': id2}\n",
    "        row.update(features) \n",
    "        row['SimilarityScore'] = 1 / (1 + sum(features.values()))\n",
    "        data.append(row)\n",
    "    return pd.DataFrame(data)\n",
    "\n",
    "pairwise_dataset = flatten_features(pair_features)\n",
    "print(pairwise_dataset.head())\n"
   ]
  },
  {
   "cell_type": "code",
   "execution_count": 10,
   "id": "3f815c2f",
   "metadata": {},
   "outputs": [],
   "source": [
    "from sklearn.model_selection import train_test_split\n",
    "\n",
    "X = pairwise_dataset.drop(columns=['Customer1', 'Customer2', 'SimilarityScore'])\n",
    "y = pairwise_dataset['SimilarityScore']\n",
    "\n",
    "X_train, X_test, y_train, y_test = train_test_split(X, y, test_size=0.2, random_state=42)\n"
   ]
  },
  {
   "cell_type": "code",
   "execution_count": 11,
   "id": "ecd91f24",
   "metadata": {},
   "outputs": [],
   "source": [
    "from sklearn.ensemble import RandomForestRegressor\n",
    "from sklearn.metrics import mean_squared_error\n",
    "\n",
    "model = RandomForestRegressor(random_state=42)\n",
    "model.fit(X_train, y_train)\n",
    "\n",
    "y_pred = model.predict(X_test)"
   ]
  },
  {
   "cell_type": "code",
   "execution_count": 13,
   "id": "ac2cd57c",
   "metadata": {},
   "outputs": [
    {
     "name": "stdout",
     "output_type": "stream",
     "text": [
      "Recommendations saved to 'Lookalike.csv'\n"
     ]
    }
   ],
   "source": [
    "def recommend_similar_customers(customer_id, customer_summary, model, top_n=3):\n",
    "    recommendations = []\n",
    "    for other_customer_id in customer_summary['CustomerID']:\n",
    "        if customer_id != other_customer_id:\n",
    "            customer1 = customer_summary[customer_summary['CustomerID'] == customer_id].iloc[0]\n",
    "            customer2 = customer_summary[customer_summary['CustomerID'] == other_customer_id].iloc[0]\n",
    "            features = {\n",
    "                'tenure_diff': abs(customer1['Tenure'] - customer2['Tenure']),\n",
    "                'spend_diff': abs(customer1['TotalSpend'] - customer2['TotalSpend']),\n",
    "                'transaction_diff': abs(customer1['TransactionCount'] - customer2['TransactionCount']),\n",
    "                'unique_products_diff': abs(customer1['UniqueProducts'] - customer2['UniqueProducts']),\n",
    "            }\n",
    "            score = model.predict([list(features.values())])[0]\n",
    "            recommendations.append((other_customer_id, score))\n",
    "    recommendations = sorted(recommendations, key=lambda x: x[1], reverse=True)\n",
    "    return recommendations[:top_n]\n",
    "\n",
    "recommendations = {}\n",
    "for customer_id in customer_summary['CustomerID'][:20]:\n",
    "    recommendations[customer_id] = recommend_similar_customers(customer_id, customer_summary, model)\n",
    "\n",
    "    recommendations_df = pd.DataFrame([\n",
    "    {'CustomerID': k, 'Recommendations': v} for k, v in recommendations.items()\n",
    "])\n",
    "recommendations_df.to_csv('Lookalike.csv', index=False)\n",
    "\n",
    "print(\"Recommendations saved to 'Lookalike.csv'\")\n"
   ]
  },
  {
   "cell_type": "code",
   "execution_count": null,
   "id": "81c673f9",
   "metadata": {},
   "outputs": [],
   "source": []
  }
 ],
 "metadata": {
  "kernelspec": {
   "display_name": "Python 3 (ipykernel)",
   "language": "python",
   "name": "python3"
  },
  "language_info": {
   "codemirror_mode": {
    "name": "ipython",
    "version": 3
   },
   "file_extension": ".py",
   "mimetype": "text/x-python",
   "name": "python",
   "nbconvert_exporter": "python",
   "pygments_lexer": "ipython3",
   "version": "3.11.3"
  }
 },
 "nbformat": 4,
 "nbformat_minor": 5
}
